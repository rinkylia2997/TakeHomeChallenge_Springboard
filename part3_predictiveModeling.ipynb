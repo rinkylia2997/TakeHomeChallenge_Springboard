{
 "cells": [
  {
   "cell_type": "markdown",
   "id": "6a86ade9",
   "metadata": {},
   "source": [
    "# Part 3: Predictive Modeling"
   ]
  },
  {
   "cell_type": "markdown",
   "id": "ef52c91f",
   "metadata": {},
   "source": [
    "## 1. Read data"
   ]
  },
  {
   "cell_type": "code",
   "execution_count": null,
   "id": "33a20c59",
   "metadata": {},
   "outputs": [
    {
     "data": {
      "text/html": [
       "<div>\n",
       "<style scoped>\n",
       "    .dataframe tbody tr th:only-of-type {\n",
       "        vertical-align: middle;\n",
       "    }\n",
       "\n",
       "    .dataframe tbody tr th {\n",
       "        vertical-align: top;\n",
       "    }\n",
       "\n",
       "    .dataframe thead th {\n",
       "        text-align: right;\n",
       "    }\n",
       "</style>\n",
       "<table border=\"1\" class=\"dataframe\">\n",
       "  <thead>\n",
       "    <tr style=\"text-align: right;\">\n",
       "      <th></th>\n",
       "      <th>city</th>\n",
       "      <th>trips_in_first_30_days</th>\n",
       "      <th>signup_date</th>\n",
       "      <th>avg_rating_of_driver</th>\n",
       "      <th>avg_surge</th>\n",
       "      <th>last_trip_date</th>\n",
       "      <th>phone</th>\n",
       "      <th>surge_pct</th>\n",
       "      <th>ultimate_black_user</th>\n",
       "      <th>weekday_pct</th>\n",
       "      <th>avg_dist</th>\n",
       "      <th>avg_rating_by_driver</th>\n",
       "    </tr>\n",
       "  </thead>\n",
       "  <tbody>\n",
       "    <tr>\n",
       "      <th>0</th>\n",
       "      <td>King's Landing</td>\n",
       "      <td>4</td>\n",
       "      <td>2014-01-25</td>\n",
       "      <td>4.7</td>\n",
       "      <td>1.10</td>\n",
       "      <td>2014-06-17</td>\n",
       "      <td>iPhone</td>\n",
       "      <td>15.4</td>\n",
       "      <td>True</td>\n",
       "      <td>46.2</td>\n",
       "      <td>3.67</td>\n",
       "      <td>5.0</td>\n",
       "    </tr>\n",
       "    <tr>\n",
       "      <th>1</th>\n",
       "      <td>Astapor</td>\n",
       "      <td>0</td>\n",
       "      <td>2014-01-29</td>\n",
       "      <td>5.0</td>\n",
       "      <td>1.00</td>\n",
       "      <td>2014-05-05</td>\n",
       "      <td>Android</td>\n",
       "      <td>0.0</td>\n",
       "      <td>False</td>\n",
       "      <td>50.0</td>\n",
       "      <td>8.26</td>\n",
       "      <td>5.0</td>\n",
       "    </tr>\n",
       "    <tr>\n",
       "      <th>2</th>\n",
       "      <td>Astapor</td>\n",
       "      <td>3</td>\n",
       "      <td>2014-01-06</td>\n",
       "      <td>4.3</td>\n",
       "      <td>1.00</td>\n",
       "      <td>2014-01-07</td>\n",
       "      <td>iPhone</td>\n",
       "      <td>0.0</td>\n",
       "      <td>False</td>\n",
       "      <td>100.0</td>\n",
       "      <td>0.77</td>\n",
       "      <td>5.0</td>\n",
       "    </tr>\n",
       "    <tr>\n",
       "      <th>3</th>\n",
       "      <td>King's Landing</td>\n",
       "      <td>9</td>\n",
       "      <td>2014-01-10</td>\n",
       "      <td>4.6</td>\n",
       "      <td>1.14</td>\n",
       "      <td>2014-06-29</td>\n",
       "      <td>iPhone</td>\n",
       "      <td>20.0</td>\n",
       "      <td>True</td>\n",
       "      <td>80.0</td>\n",
       "      <td>2.36</td>\n",
       "      <td>4.9</td>\n",
       "    </tr>\n",
       "    <tr>\n",
       "      <th>4</th>\n",
       "      <td>Winterfell</td>\n",
       "      <td>14</td>\n",
       "      <td>2014-01-27</td>\n",
       "      <td>4.4</td>\n",
       "      <td>1.19</td>\n",
       "      <td>2014-03-15</td>\n",
       "      <td>Android</td>\n",
       "      <td>11.8</td>\n",
       "      <td>False</td>\n",
       "      <td>82.4</td>\n",
       "      <td>3.13</td>\n",
       "      <td>4.9</td>\n",
       "    </tr>\n",
       "  </tbody>\n",
       "</table>\n",
       "</div>"
      ],
      "text/plain": [
       "             city  trips_in_first_30_days signup_date  avg_rating_of_driver  \\\n",
       "0  King's Landing                       4  2014-01-25                   4.7   \n",
       "1         Astapor                       0  2014-01-29                   5.0   \n",
       "2         Astapor                       3  2014-01-06                   4.3   \n",
       "3  King's Landing                       9  2014-01-10                   4.6   \n",
       "4      Winterfell                      14  2014-01-27                   4.4   \n",
       "\n",
       "   avg_surge last_trip_date    phone  surge_pct  ultimate_black_user  \\\n",
       "0       1.10     2014-06-17   iPhone       15.4                 True   \n",
       "1       1.00     2014-05-05  Android        0.0                False   \n",
       "2       1.00     2014-01-07   iPhone        0.0                False   \n",
       "3       1.14     2014-06-29   iPhone       20.0                 True   \n",
       "4       1.19     2014-03-15  Android       11.8                False   \n",
       "\n",
       "   weekday_pct  avg_dist  avg_rating_by_driver  \n",
       "0         46.2      3.67                   5.0  \n",
       "1         50.0      8.26                   5.0  \n",
       "2        100.0      0.77                   5.0  \n",
       "3         80.0      2.36                   4.9  \n",
       "4         82.4      3.13                   4.9  "
      ]
     },
     "execution_count": 287,
     "metadata": {},
     "output_type": "execute_result"
    }
   ],
   "source": [
    "#read data\n",
    "\n",
    "import pandas as pd\n",
    "\n",
    "df_part3 = pd.read_json('ultimate_data_challenge.json', keep_default_dates=True, convert_dates=['signup_date', 'last_trip_date'])\n",
    "df_part3.head()"
   ]
  },
  {
   "cell_type": "code",
   "execution_count": 288,
   "id": "228efa5f",
   "metadata": {},
   "outputs": [
    {
     "name": "stdout",
     "output_type": "stream",
     "text": [
      "<class 'pandas.core.frame.DataFrame'>\n",
      "RangeIndex: 50000 entries, 0 to 49999\n",
      "Data columns (total 12 columns):\n",
      " #   Column                  Non-Null Count  Dtype         \n",
      "---  ------                  --------------  -----         \n",
      " 0   city                    50000 non-null  object        \n",
      " 1   trips_in_first_30_days  50000 non-null  int64         \n",
      " 2   signup_date             50000 non-null  datetime64[ns]\n",
      " 3   avg_rating_of_driver    41878 non-null  float64       \n",
      " 4   avg_surge               50000 non-null  float64       \n",
      " 5   last_trip_date          50000 non-null  datetime64[ns]\n",
      " 6   phone                   49604 non-null  object        \n",
      " 7   surge_pct               50000 non-null  float64       \n",
      " 8   ultimate_black_user     50000 non-null  bool          \n",
      " 9   weekday_pct             50000 non-null  float64       \n",
      " 10  avg_dist                50000 non-null  float64       \n",
      " 11  avg_rating_by_driver    49799 non-null  float64       \n",
      "dtypes: bool(1), datetime64[ns](2), float64(6), int64(1), object(2)\n",
      "memory usage: 4.2+ MB\n"
     ]
    }
   ],
   "source": [
    "df_part3.info()"
   ]
  },
  {
   "cell_type": "markdown",
   "id": "22eb7da2",
   "metadata": {},
   "source": [
    "All datatypes appear to be correct"
   ]
  },
  {
   "cell_type": "code",
   "execution_count": 289,
   "id": "b819ee3b",
   "metadata": {},
   "outputs": [
    {
     "data": {
      "text/html": [
       "<div>\n",
       "<style scoped>\n",
       "    .dataframe tbody tr th:only-of-type {\n",
       "        vertical-align: middle;\n",
       "    }\n",
       "\n",
       "    .dataframe tbody tr th {\n",
       "        vertical-align: top;\n",
       "    }\n",
       "\n",
       "    .dataframe thead th {\n",
       "        text-align: right;\n",
       "    }\n",
       "</style>\n",
       "<table border=\"1\" class=\"dataframe\">\n",
       "  <thead>\n",
       "    <tr style=\"text-align: right;\">\n",
       "      <th></th>\n",
       "      <th>trips_in_first_30_days</th>\n",
       "      <th>signup_date</th>\n",
       "      <th>avg_rating_of_driver</th>\n",
       "      <th>avg_surge</th>\n",
       "      <th>last_trip_date</th>\n",
       "      <th>surge_pct</th>\n",
       "      <th>weekday_pct</th>\n",
       "      <th>avg_dist</th>\n",
       "      <th>avg_rating_by_driver</th>\n",
       "    </tr>\n",
       "  </thead>\n",
       "  <tbody>\n",
       "    <tr>\n",
       "      <th>count</th>\n",
       "      <td>50000.000000</td>\n",
       "      <td>50000</td>\n",
       "      <td>41878.000000</td>\n",
       "      <td>50000.000000</td>\n",
       "      <td>50000</td>\n",
       "      <td>50000.000000</td>\n",
       "      <td>50000.000000</td>\n",
       "      <td>50000.000000</td>\n",
       "      <td>49799.000000</td>\n",
       "    </tr>\n",
       "    <tr>\n",
       "      <th>mean</th>\n",
       "      <td>2.278200</td>\n",
       "      <td>2014-01-16 13:04:20.352000</td>\n",
       "      <td>4.601559</td>\n",
       "      <td>1.074764</td>\n",
       "      <td>2014-04-19 08:02:04.992000256</td>\n",
       "      <td>8.849536</td>\n",
       "      <td>60.926084</td>\n",
       "      <td>5.796827</td>\n",
       "      <td>4.778158</td>\n",
       "    </tr>\n",
       "    <tr>\n",
       "      <th>min</th>\n",
       "      <td>0.000000</td>\n",
       "      <td>2014-01-01 00:00:00</td>\n",
       "      <td>1.000000</td>\n",
       "      <td>1.000000</td>\n",
       "      <td>2014-01-01 00:00:00</td>\n",
       "      <td>0.000000</td>\n",
       "      <td>0.000000</td>\n",
       "      <td>0.000000</td>\n",
       "      <td>1.000000</td>\n",
       "    </tr>\n",
       "    <tr>\n",
       "      <th>25%</th>\n",
       "      <td>0.000000</td>\n",
       "      <td>2014-01-09 00:00:00</td>\n",
       "      <td>4.300000</td>\n",
       "      <td>1.000000</td>\n",
       "      <td>2014-02-14 00:00:00</td>\n",
       "      <td>0.000000</td>\n",
       "      <td>33.300000</td>\n",
       "      <td>2.420000</td>\n",
       "      <td>4.700000</td>\n",
       "    </tr>\n",
       "    <tr>\n",
       "      <th>50%</th>\n",
       "      <td>1.000000</td>\n",
       "      <td>2014-01-17 00:00:00</td>\n",
       "      <td>4.900000</td>\n",
       "      <td>1.000000</td>\n",
       "      <td>2014-05-08 00:00:00</td>\n",
       "      <td>0.000000</td>\n",
       "      <td>66.700000</td>\n",
       "      <td>3.880000</td>\n",
       "      <td>5.000000</td>\n",
       "    </tr>\n",
       "    <tr>\n",
       "      <th>75%</th>\n",
       "      <td>3.000000</td>\n",
       "      <td>2014-01-24 00:00:00</td>\n",
       "      <td>5.000000</td>\n",
       "      <td>1.050000</td>\n",
       "      <td>2014-06-18 00:00:00</td>\n",
       "      <td>8.600000</td>\n",
       "      <td>100.000000</td>\n",
       "      <td>6.940000</td>\n",
       "      <td>5.000000</td>\n",
       "    </tr>\n",
       "    <tr>\n",
       "      <th>max</th>\n",
       "      <td>125.000000</td>\n",
       "      <td>2014-01-31 00:00:00</td>\n",
       "      <td>5.000000</td>\n",
       "      <td>8.000000</td>\n",
       "      <td>2014-07-01 00:00:00</td>\n",
       "      <td>100.000000</td>\n",
       "      <td>100.000000</td>\n",
       "      <td>160.960000</td>\n",
       "      <td>5.000000</td>\n",
       "    </tr>\n",
       "    <tr>\n",
       "      <th>std</th>\n",
       "      <td>3.792684</td>\n",
       "      <td>NaN</td>\n",
       "      <td>0.617338</td>\n",
       "      <td>0.222336</td>\n",
       "      <td>NaN</td>\n",
       "      <td>19.958811</td>\n",
       "      <td>37.081503</td>\n",
       "      <td>5.707357</td>\n",
       "      <td>0.446652</td>\n",
       "    </tr>\n",
       "  </tbody>\n",
       "</table>\n",
       "</div>"
      ],
      "text/plain": [
       "       trips_in_first_30_days                 signup_date  \\\n",
       "count            50000.000000                       50000   \n",
       "mean                 2.278200  2014-01-16 13:04:20.352000   \n",
       "min                  0.000000         2014-01-01 00:00:00   \n",
       "25%                  0.000000         2014-01-09 00:00:00   \n",
       "50%                  1.000000         2014-01-17 00:00:00   \n",
       "75%                  3.000000         2014-01-24 00:00:00   \n",
       "max                125.000000         2014-01-31 00:00:00   \n",
       "std                  3.792684                         NaN   \n",
       "\n",
       "       avg_rating_of_driver     avg_surge                 last_trip_date  \\\n",
       "count          41878.000000  50000.000000                          50000   \n",
       "mean               4.601559      1.074764  2014-04-19 08:02:04.992000256   \n",
       "min                1.000000      1.000000            2014-01-01 00:00:00   \n",
       "25%                4.300000      1.000000            2014-02-14 00:00:00   \n",
       "50%                4.900000      1.000000            2014-05-08 00:00:00   \n",
       "75%                5.000000      1.050000            2014-06-18 00:00:00   \n",
       "max                5.000000      8.000000            2014-07-01 00:00:00   \n",
       "std                0.617338      0.222336                            NaN   \n",
       "\n",
       "          surge_pct   weekday_pct      avg_dist  avg_rating_by_driver  \n",
       "count  50000.000000  50000.000000  50000.000000          49799.000000  \n",
       "mean       8.849536     60.926084      5.796827              4.778158  \n",
       "min        0.000000      0.000000      0.000000              1.000000  \n",
       "25%        0.000000     33.300000      2.420000              4.700000  \n",
       "50%        0.000000     66.700000      3.880000              5.000000  \n",
       "75%        8.600000    100.000000      6.940000              5.000000  \n",
       "max      100.000000    100.000000    160.960000              5.000000  \n",
       "std       19.958811     37.081503      5.707357              0.446652  "
      ]
     },
     "execution_count": 289,
     "metadata": {},
     "output_type": "execute_result"
    }
   ],
   "source": [
    "df_part3.describe()"
   ]
  },
  {
   "cell_type": "markdown",
   "id": "40d0b57f",
   "metadata": {},
   "source": [
    "## 2. Data Wrangling"
   ]
  },
  {
   "cell_type": "code",
   "execution_count": 290,
   "id": "1107efe9",
   "metadata": {},
   "outputs": [
    {
     "data": {
      "text/plain": [
       "city                      0.00000\n",
       "trips_in_first_30_days    0.00000\n",
       "signup_date               0.00000\n",
       "avg_rating_of_driver      0.16244\n",
       "avg_surge                 0.00000\n",
       "last_trip_date            0.00000\n",
       "phone                     0.00792\n",
       "surge_pct                 0.00000\n",
       "ultimate_black_user       0.00000\n",
       "weekday_pct               0.00000\n",
       "avg_dist                  0.00000\n",
       "avg_rating_by_driver      0.00402\n",
       "dtype: float64"
      ]
     },
     "execution_count": 290,
     "metadata": {},
     "output_type": "execute_result"
    }
   ],
   "source": [
    "#check for null values\n",
    "df_part3.isnull().sum()/len(df_part3)"
   ]
  },
  {
   "cell_type": "markdown",
   "id": "5892b71e",
   "metadata": {},
   "source": [
    "`avg_rating_by_driver` and `phone` has some missing values and the % of missingness is < 5% compared to total dataset for each of these variables we can simply impute values with the mean/median or mode.\n",
    "\n",
    "`average_rating_of_driver` has ~16% missing values so we need to evaluate cautiously before we impute it with mean/mode/median\n",
    "\n",
    "\n",
    "General missingness handling principle - <br>\n",
    "1. If missingness is < 5%, simple imputation (mean, median, mode) is usually safe and unlikely to bias results.\n",
    "2. If missingness is 5–10%, imputation is still acceptable but requires more caution.\n",
    "3. If missingness is > 10%, consider advanced imputation methods or analyze the impact of missingness before proceeding."
   ]
  },
  {
   "cell_type": "code",
   "execution_count": 291,
   "id": "7f738399",
   "metadata": {},
   "outputs": [
    {
     "data": {
      "image/png": "[encoded data removed]",
      "text/plain": [
       "<Figure size 640x480 with 1 Axes>"
      ]
     },
     "metadata": {},
     "output_type": "display_data"
    }
   ],
   "source": [
    "#check distribution of average_rating_of_driver\n",
    "df_part3['avg_rating_by_driver'].value_counts()\n",
    "#plot a histogram\n",
    "import matplotlib.pyplot as plt\n",
    "plt.hist(df_part3['avg_rating_by_driver'].dropna(), bins=30)\n",
    "plt.show()"
   ]
  },
  {
   "cell_type": "code",
   "execution_count": 292,
   "id": "678a1996",
   "metadata": {},
   "outputs": [
    {
     "data": {
      "text/plain": [
       "count    49799.000000\n",
       "mean         4.778158\n",
       "std          0.446652\n",
       "min          1.000000\n",
       "25%          4.700000\n",
       "50%          5.000000\n",
       "75%          5.000000\n",
       "max          5.000000\n",
       "Name: avg_rating_by_driver, dtype: float64"
      ]
     },
     "execution_count": 292,
     "metadata": {},
     "output_type": "execute_result"
    }
   ],
   "source": [
    "df_part3['avg_rating_by_driver'].describe()"
   ]
  },
  {
   "cell_type": "markdown",
   "id": "0a0beb5a",
   "metadata": {},
   "source": [
    "Mean = 4.77 and Median/Mode = 5, since it is a continuous value, its safe to populate with mean."
   ]
  },
  {
   "cell_type": "markdown",
   "id": "bb11fd16",
   "metadata": {},
   "source": [
    "#### 2.1 Impute `avg_rating_by_driver` with mean"
   ]
  },
  {
   "cell_type": "code",
   "execution_count": 293,
   "id": "3ea14815",
   "metadata": {},
   "outputs": [],
   "source": [
    "mean_avg_rating = df_part3['avg_rating_by_driver'].mean()\n",
    "df_part3.fillna({'avg_rating_by_driver': mean_avg_rating}, inplace=True)"
   ]
  },
  {
   "cell_type": "code",
   "execution_count": 294,
   "id": "fadde5de",
   "metadata": {},
   "outputs": [
    {
     "data": {
      "text/plain": [
       "phone\n",
       "iPhone     0.697162\n",
       "Android    0.302838\n",
       "Name: proportion, dtype: float64"
      ]
     },
     "execution_count": 294,
     "metadata": {},
     "output_type": "execute_result"
    }
   ],
   "source": [
    "df_part3['phone'].value_counts(normalize=True)"
   ]
  },
  {
   "cell_type": "markdown",
   "id": "baafb7ea",
   "metadata": {},
   "source": [
    "#### 2.2 Impute `phone` with mode"
   ]
  },
  {
   "cell_type": "markdown",
   "id": "7c513d74",
   "metadata": {},
   "source": [
    "Clearly mode is Iphone, so lets impute the missing values with iPhone."
   ]
  },
  {
   "cell_type": "code",
   "execution_count": 295,
   "id": "9b4535d8",
   "metadata": {},
   "outputs": [],
   "source": [
    "mode_phone = df_part3['phone'].mode()[0]\n",
    "df_part3.fillna({'phone': mode_phone}, inplace=True)"
   ]
  },
  {
   "cell_type": "markdown",
   "id": "f9ab2761",
   "metadata": {},
   "source": [
    "## 3. EDA"
   ]
  },
  {
   "cell_type": "markdown",
   "id": "4f1633f3",
   "metadata": {},
   "source": [
    "#### 3.1 Evaluate missingness of `average_rating_of_driver`"
   ]
  },
  {
   "cell_type": "code",
   "execution_count": 296,
   "id": "fad347e1",
   "metadata": {},
   "outputs": [
    {
     "data": {
      "image/png": "[encoded data removed]",
      "text/plain": [
       "<Figure size 640x480 with 1 Axes>"
      ]
     },
     "metadata": {},
     "output_type": "display_data"
    }
   ],
   "source": [
    "#check distribution of average_rating_of_driver\n",
    "#plot a histogram\n",
    "import matplotlib.pyplot as plt\n",
    "plt.hist(df_part3['avg_rating_of_driver'].dropna(), bins=30)\n",
    "plt.show()"
   ]
  },
  {
   "cell_type": "code",
   "execution_count": 297,
   "id": "0eee0e7f",
   "metadata": {},
   "outputs": [
    {
     "data": {
      "text/html": [
       "<div>\n",
       "<style scoped>\n",
       "    .dataframe tbody tr th:only-of-type {\n",
       "        vertical-align: middle;\n",
       "    }\n",
       "\n",
       "    .dataframe tbody tr th {\n",
       "        vertical-align: top;\n",
       "    }\n",
       "\n",
       "    .dataframe thead th {\n",
       "        text-align: right;\n",
       "    }\n",
       "</style>\n",
       "<table border=\"1\" class=\"dataframe\">\n",
       "  <thead>\n",
       "    <tr style=\"text-align: right;\">\n",
       "      <th></th>\n",
       "      <th>trips_in_first_30_days</th>\n",
       "      <th>signup_date</th>\n",
       "      <th>avg_rating_of_driver</th>\n",
       "      <th>avg_surge</th>\n",
       "      <th>last_trip_date</th>\n",
       "      <th>surge_pct</th>\n",
       "      <th>weekday_pct</th>\n",
       "      <th>avg_dist</th>\n",
       "      <th>avg_rating_by_driver</th>\n",
       "      <th>avg_rating_of_driver_missing</th>\n",
       "    </tr>\n",
       "  </thead>\n",
       "  <tbody>\n",
       "    <tr>\n",
       "      <th>count</th>\n",
       "      <td>8122.000000</td>\n",
       "      <td>8122</td>\n",
       "      <td>0.0</td>\n",
       "      <td>8122.000000</td>\n",
       "      <td>8122</td>\n",
       "      <td>8122.000000</td>\n",
       "      <td>8122.000000</td>\n",
       "      <td>8122.000000</td>\n",
       "      <td>8122.000000</td>\n",
       "      <td>8122.0</td>\n",
       "    </tr>\n",
       "    <tr>\n",
       "      <th>mean</th>\n",
       "      <td>0.593327</td>\n",
       "      <td>2014-01-16 22:06:42.462447360</td>\n",
       "      <td>NaN</td>\n",
       "      <td>1.078210</td>\n",
       "      <td>2014-03-24 11:53:58.315685632</td>\n",
       "      <td>8.548067</td>\n",
       "      <td>59.050948</td>\n",
       "      <td>7.506267</td>\n",
       "      <td>4.785919</td>\n",
       "      <td>1.0</td>\n",
       "    </tr>\n",
       "    <tr>\n",
       "      <th>min</th>\n",
       "      <td>0.000000</td>\n",
       "      <td>2014-01-01 00:00:00</td>\n",
       "      <td>NaN</td>\n",
       "      <td>1.000000</td>\n",
       "      <td>2014-01-01 00:00:00</td>\n",
       "      <td>0.000000</td>\n",
       "      <td>0.000000</td>\n",
       "      <td>0.000000</td>\n",
       "      <td>1.000000</td>\n",
       "      <td>1.0</td>\n",
       "    </tr>\n",
       "    <tr>\n",
       "      <th>25%</th>\n",
       "      <td>0.000000</td>\n",
       "      <td>2014-01-10 00:00:00</td>\n",
       "      <td>NaN</td>\n",
       "      <td>1.000000</td>\n",
       "      <td>2014-01-26 00:00:00</td>\n",
       "      <td>0.000000</td>\n",
       "      <td>0.000000</td>\n",
       "      <td>2.410000</td>\n",
       "      <td>5.000000</td>\n",
       "      <td>1.0</td>\n",
       "    </tr>\n",
       "    <tr>\n",
       "      <th>50%</th>\n",
       "      <td>1.000000</td>\n",
       "      <td>2014-01-18 00:00:00</td>\n",
       "      <td>NaN</td>\n",
       "      <td>1.000000</td>\n",
       "      <td>2014-03-16 00:00:00</td>\n",
       "      <td>0.000000</td>\n",
       "      <td>100.000000</td>\n",
       "      <td>4.715000</td>\n",
       "      <td>5.000000</td>\n",
       "      <td>1.0</td>\n",
       "    </tr>\n",
       "    <tr>\n",
       "      <th>75%</th>\n",
       "      <td>1.000000</td>\n",
       "      <td>2014-01-25 00:00:00</td>\n",
       "      <td>NaN</td>\n",
       "      <td>1.000000</td>\n",
       "      <td>2014-05-22 00:00:00</td>\n",
       "      <td>0.000000</td>\n",
       "      <td>100.000000</td>\n",
       "      <td>10.720000</td>\n",
       "      <td>5.000000</td>\n",
       "      <td>1.0</td>\n",
       "    </tr>\n",
       "    <tr>\n",
       "      <th>max</th>\n",
       "      <td>5.000000</td>\n",
       "      <td>2014-01-31 00:00:00</td>\n",
       "      <td>NaN</td>\n",
       "      <td>5.000000</td>\n",
       "      <td>2014-07-01 00:00:00</td>\n",
       "      <td>100.000000</td>\n",
       "      <td>100.000000</td>\n",
       "      <td>160.960000</td>\n",
       "      <td>5.000000</td>\n",
       "      <td>1.0</td>\n",
       "    </tr>\n",
       "    <tr>\n",
       "      <th>std</th>\n",
       "      <td>0.606755</td>\n",
       "      <td>NaN</td>\n",
       "      <td>NaN</td>\n",
       "      <td>0.310306</td>\n",
       "      <td>NaN</td>\n",
       "      <td>26.578461</td>\n",
       "      <td>46.859739</td>\n",
       "      <td>7.758616</td>\n",
       "      <td>0.619551</td>\n",
       "      <td>0.0</td>\n",
       "    </tr>\n",
       "  </tbody>\n",
       "</table>\n",
       "</div>"
      ],
      "text/plain": [
       "       trips_in_first_30_days                    signup_date  \\\n",
       "count             8122.000000                           8122   \n",
       "mean                 0.593327  2014-01-16 22:06:42.462447360   \n",
       "min                  0.000000            2014-01-01 00:00:00   \n",
       "25%                  0.000000            2014-01-10 00:00:00   \n",
       "50%                  1.000000            2014-01-18 00:00:00   \n",
       "75%                  1.000000            2014-01-25 00:00:00   \n",
       "max                  5.000000            2014-01-31 00:00:00   \n",
       "std                  0.606755                            NaN   \n",
       "\n",
       "       avg_rating_of_driver    avg_surge                 last_trip_date  \\\n",
       "count                   0.0  8122.000000                           8122   \n",
       "mean                    NaN     1.078210  2014-03-24 11:53:58.315685632   \n",
       "min                     NaN     1.000000            2014-01-01 00:00:00   \n",
       "25%                     NaN     1.000000            2014-01-26 00:00:00   \n",
       "50%                     NaN     1.000000            2014-03-16 00:00:00   \n",
       "75%                     NaN     1.000000            2014-05-22 00:00:00   \n",
       "max                     NaN     5.000000            2014-07-01 00:00:00   \n",
       "std                     NaN     0.310306                            NaN   \n",
       "\n",
       "         surge_pct  weekday_pct     avg_dist  avg_rating_by_driver  \\\n",
       "count  8122.000000  8122.000000  8122.000000           8122.000000   \n",
       "mean      8.548067    59.050948     7.506267              4.785919   \n",
       "min       0.000000     0.000000     0.000000              1.000000   \n",
       "25%       0.000000     0.000000     2.410000              5.000000   \n",
       "50%       0.000000   100.000000     4.715000              5.000000   \n",
       "75%       0.000000   100.000000    10.720000              5.000000   \n",
       "max     100.000000   100.000000   160.960000              5.000000   \n",
       "std      26.578461    46.859739     7.758616              0.619551   \n",
       "\n",
       "       avg_rating_of_driver_missing  \n",
       "count                        8122.0  \n",
       "mean                            1.0  \n",
       "min                             1.0  \n",
       "25%                             1.0  \n",
       "50%                             1.0  \n",
       "75%                             1.0  \n",
       "max                             1.0  \n",
       "std                             0.0  "
      ]
     },
     "execution_count": 297,
     "metadata": {},
     "output_type": "execute_result"
    }
   ],
   "source": [
    "#group missing values of avg_rating_of_driver by all other variables to see if there are any patterns\n",
    "df_part3['avg_rating_of_driver_missing'] = df_part3['avg_rating_of_driver'].isnull().astype(int)\n",
    "missing_avg_rating = df_part3[df_part3['avg_rating_of_driver_missing'] == 1]\n",
    "non_missing_avg_rating = df_part3[df_part3['avg_rating_of_driver_missing'] == 0]\n",
    "missing_avg_rating.describe()\n"
   ]
  },
  {
   "cell_type": "code",
   "execution_count": 298,
   "id": "eba9e070",
   "metadata": {},
   "outputs": [
    {
     "data": {
      "text/html": [
       "<div>\n",
       "<style scoped>\n",
       "    .dataframe tbody tr th:only-of-type {\n",
       "        vertical-align: middle;\n",
       "    }\n",
       "\n",
       "    .dataframe tbody tr th {\n",
       "        vertical-align: top;\n",
       "    }\n",
       "\n",
       "    .dataframe thead th {\n",
       "        text-align: right;\n",
       "    }\n",
       "</style>\n",
       "<table border=\"1\" class=\"dataframe\">\n",
       "  <thead>\n",
       "    <tr style=\"text-align: right;\">\n",
       "      <th></th>\n",
       "      <th>trips_in_first_30_days</th>\n",
       "      <th>signup_date</th>\n",
       "      <th>avg_rating_of_driver</th>\n",
       "      <th>avg_surge</th>\n",
       "      <th>last_trip_date</th>\n",
       "      <th>surge_pct</th>\n",
       "      <th>weekday_pct</th>\n",
       "      <th>avg_dist</th>\n",
       "      <th>avg_rating_by_driver</th>\n",
       "      <th>avg_rating_of_driver_missing</th>\n",
       "    </tr>\n",
       "  </thead>\n",
       "  <tbody>\n",
       "    <tr>\n",
       "      <th>count</th>\n",
       "      <td>41878.000000</td>\n",
       "      <td>41878</td>\n",
       "      <td>41878.000000</td>\n",
       "      <td>41878.000000</td>\n",
       "      <td>41878</td>\n",
       "      <td>41878.000000</td>\n",
       "      <td>41878.000000</td>\n",
       "      <td>41878.000000</td>\n",
       "      <td>41878.000000</td>\n",
       "      <td>41878.0</td>\n",
       "    </tr>\n",
       "    <tr>\n",
       "      <th>mean</th>\n",
       "      <td>2.604972</td>\n",
       "      <td>2014-01-16 11:19:08.994699008</td>\n",
       "      <td>4.601559</td>\n",
       "      <td>1.074095</td>\n",
       "      <td>2014-04-24 08:18:23.089928192</td>\n",
       "      <td>8.908004</td>\n",
       "      <td>61.289756</td>\n",
       "      <td>5.465290</td>\n",
       "      <td>4.776653</td>\n",
       "      <td>0.0</td>\n",
       "    </tr>\n",
       "    <tr>\n",
       "      <th>min</th>\n",
       "      <td>0.000000</td>\n",
       "      <td>2014-01-01 00:00:00</td>\n",
       "      <td>1.000000</td>\n",
       "      <td>1.000000</td>\n",
       "      <td>2014-01-01 00:00:00</td>\n",
       "      <td>0.000000</td>\n",
       "      <td>0.000000</td>\n",
       "      <td>0.000000</td>\n",
       "      <td>1.000000</td>\n",
       "      <td>0.0</td>\n",
       "    </tr>\n",
       "    <tr>\n",
       "      <th>25%</th>\n",
       "      <td>0.000000</td>\n",
       "      <td>2014-01-09 00:00:00</td>\n",
       "      <td>4.300000</td>\n",
       "      <td>1.000000</td>\n",
       "      <td>2014-02-23 00:00:00</td>\n",
       "      <td>0.000000</td>\n",
       "      <td>37.500000</td>\n",
       "      <td>2.420000</td>\n",
       "      <td>4.700000</td>\n",
       "      <td>0.0</td>\n",
       "    </tr>\n",
       "    <tr>\n",
       "      <th>50%</th>\n",
       "      <td>1.000000</td>\n",
       "      <td>2014-01-17 00:00:00</td>\n",
       "      <td>4.900000</td>\n",
       "      <td>1.000000</td>\n",
       "      <td>2014-05-16 00:00:00</td>\n",
       "      <td>0.000000</td>\n",
       "      <td>66.700000</td>\n",
       "      <td>3.790000</td>\n",
       "      <td>5.000000</td>\n",
       "      <td>0.0</td>\n",
       "    </tr>\n",
       "    <tr>\n",
       "      <th>75%</th>\n",
       "      <td>3.000000</td>\n",
       "      <td>2014-01-24 00:00:00</td>\n",
       "      <td>5.000000</td>\n",
       "      <td>1.070000</td>\n",
       "      <td>2014-06-20 00:00:00</td>\n",
       "      <td>11.100000</td>\n",
       "      <td>100.000000</td>\n",
       "      <td>6.490000</td>\n",
       "      <td>5.000000</td>\n",
       "      <td>0.0</td>\n",
       "    </tr>\n",
       "    <tr>\n",
       "      <th>max</th>\n",
       "      <td>125.000000</td>\n",
       "      <td>2014-01-31 00:00:00</td>\n",
       "      <td>5.000000</td>\n",
       "      <td>8.000000</td>\n",
       "      <td>2014-07-01 00:00:00</td>\n",
       "      <td>100.000000</td>\n",
       "      <td>100.000000</td>\n",
       "      <td>79.690000</td>\n",
       "      <td>5.000000</td>\n",
       "      <td>0.0</td>\n",
       "    </tr>\n",
       "    <tr>\n",
       "      <th>std</th>\n",
       "      <td>4.055311</td>\n",
       "      <td>NaN</td>\n",
       "      <td>0.617338</td>\n",
       "      <td>0.200861</td>\n",
       "      <td>NaN</td>\n",
       "      <td>18.401140</td>\n",
       "      <td>34.858046</td>\n",
       "      <td>5.151833</td>\n",
       "      <td>0.403462</td>\n",
       "      <td>0.0</td>\n",
       "    </tr>\n",
       "  </tbody>\n",
       "</table>\n",
       "</div>"
      ],
      "text/plain": [
       "       trips_in_first_30_days                    signup_date  \\\n",
       "count            41878.000000                          41878   \n",
       "mean                 2.604972  2014-01-16 11:19:08.994699008   \n",
       "min                  0.000000            2014-01-01 00:00:00   \n",
       "25%                  0.000000            2014-01-09 00:00:00   \n",
       "50%                  1.000000            2014-01-17 00:00:00   \n",
       "75%                  3.000000            2014-01-24 00:00:00   \n",
       "max                125.000000            2014-01-31 00:00:00   \n",
       "std                  4.055311                            NaN   \n",
       "\n",
       "       avg_rating_of_driver     avg_surge                 last_trip_date  \\\n",
       "count          41878.000000  41878.000000                          41878   \n",
       "mean               4.601559      1.074095  2014-04-24 08:18:23.089928192   \n",
       "min                1.000000      1.000000            2014-01-01 00:00:00   \n",
       "25%                4.300000      1.000000            2014-02-23 00:00:00   \n",
       "50%                4.900000      1.000000            2014-05-16 00:00:00   \n",
       "75%                5.000000      1.070000            2014-06-20 00:00:00   \n",
       "max                5.000000      8.000000            2014-07-01 00:00:00   \n",
       "std                0.617338      0.200861                            NaN   \n",
       "\n",
       "          surge_pct   weekday_pct      avg_dist  avg_rating_by_driver  \\\n",
       "count  41878.000000  41878.000000  41878.000000          41878.000000   \n",
       "mean       8.908004     61.289756      5.465290              4.776653   \n",
       "min        0.000000      0.000000      0.000000              1.000000   \n",
       "25%        0.000000     37.500000      2.420000              4.700000   \n",
       "50%        0.000000     66.700000      3.790000              5.000000   \n",
       "75%       11.100000    100.000000      6.490000              5.000000   \n",
       "max      100.000000    100.000000     79.690000              5.000000   \n",
       "std       18.401140     34.858046      5.151833              0.403462   \n",
       "\n",
       "       avg_rating_of_driver_missing  \n",
       "count                       41878.0  \n",
       "mean                            0.0  \n",
       "min                             0.0  \n",
       "25%                             0.0  \n",
       "50%                             0.0  \n",
       "75%                             0.0  \n",
       "max                             0.0  \n",
       "std                             0.0  "
      ]
     },
     "execution_count": 298,
     "metadata": {},
     "output_type": "execute_result"
    }
   ],
   "source": [
    "non_missing_avg_rating.describe()"
   ]
  },
  {
   "cell_type": "markdown",
   "id": "a322a239",
   "metadata": {},
   "source": [
    "From this quick summary we can see that `avg_rating_of_driver` missingness can be attributed to fewer `trips_in_first_30_days` (the maximum number of trips these folks have made is 5 in the past 30 days, with mean as 0.5).\n",
    "\n",
    "We also notice that the avg_dist of these missing rows is significantly higher than the non-missing rows, this could suggest that they were potentially one time users of Ultimate platforms. We should also do this analysis across categorical features"
   ]
  },
  {
   "cell_type": "code",
   "execution_count": 299,
   "id": "3872bd05",
   "metadata": {},
   "outputs": [
    {
     "name": "stdout",
     "output_type": "stream",
     "text": [
      "Value counts for city in missing_avg_rating:\n",
      "city\n",
      "Winterfell        0.486580\n",
      "Astapor           0.355454\n",
      "King's Landing    0.157966\n",
      "Name: proportion, dtype: float64\n",
      "Value counts for city in non_missing_avg_rating:\n",
      "city\n",
      "Winterfell        0.462868\n",
      "Astapor           0.325875\n",
      "King's Landing    0.211257\n",
      "Name: proportion, dtype: float64\n",
      "\n",
      "\n",
      "Value counts for phone in missing_avg_rating:\n",
      "phone\n",
      "iPhone     0.644423\n",
      "Android    0.355577\n",
      "Name: proportion, dtype: float64\n",
      "Value counts for phone in non_missing_avg_rating:\n",
      "phone\n",
      "iPhone     0.710254\n",
      "Android    0.289746\n",
      "Name: proportion, dtype: float64\n",
      "\n",
      "\n",
      "Value counts for ultimate_black_user in missing_avg_rating:\n",
      "ultimate_black_user\n",
      "False    0.66326\n",
      "True     0.33674\n",
      "Name: proportion, dtype: float64\n",
      "Value counts for ultimate_black_user in non_missing_avg_rating:\n",
      "ultimate_black_user\n",
      "False    0.615096\n",
      "True     0.384904\n",
      "Name: proportion, dtype: float64\n",
      "\n",
      "\n"
     ]
    }
   ],
   "source": [
    "# compare dataframes missing_avg_rating and non_missing_avg_rating across categorical variables\n",
    "categorical_vars = ['city', 'phone', 'ultimate_black_user']\n",
    "for var in categorical_vars:\n",
    "    print(f\"Value counts for {var} in missing_avg_rating:\")\n",
    "    print(missing_avg_rating[var].value_counts(normalize=True))\n",
    "    print(f\"Value counts for {var} in non_missing_avg_rating:\")\n",
    "    print(non_missing_avg_rating[var].value_counts(normalize=True))\n",
    "    print(\"\\n\")"
   ]
  },
  {
   "cell_type": "markdown",
   "id": "b6cf1889",
   "metadata": {},
   "source": [
    "We notice that there could be a relationship between `avg_rating_of_driver` to `phone` as well. From our above observations we need to keep our missing values as it is since there is a significant trend with our outcome variable `trips_in_first_30_days`"
   ]
  },
  {
   "cell_type": "code",
   "execution_count": 300,
   "id": "e75a72fb",
   "metadata": {},
   "outputs": [],
   "source": [
    "#drop the missing indicator column\n",
    "df_part3.drop(columns=['avg_rating_of_driver_missing'], inplace=True)"
   ]
  },
  {
   "cell_type": "markdown",
   "id": "3c12056c",
   "metadata": {},
   "source": [
    "### Since our aim is to predict customer retention, let's introduce a new categoriacal `customer_retention` variable that is assigned based on `trips_in_first_30_days` , i.e if `trips_in_first_30_days` > 0 then assign 1 else 0"
   ]
  },
  {
   "cell_type": "markdown",
   "id": "8ffaf88d",
   "metadata": {},
   "source": [
    "### 3.2 Determine Target Variable"
   ]
  },
  {
   "cell_type": "code",
   "execution_count": 301,
   "id": "2b9ac54d",
   "metadata": {},
   "outputs": [],
   "source": [
    "#add new variable customer_retention based on trips_in_first_30_days\n",
    "df_part3['customer_retention'] = (df_part3['trips_in_first_30_days'] > 0).astype(int)"
   ]
  },
  {
   "cell_type": "code",
   "execution_count": 302,
   "id": "e093ca2d",
   "metadata": {},
   "outputs": [
    {
     "data": {
      "text/html": [
       "<div>\n",
       "<style scoped>\n",
       "    .dataframe tbody tr th:only-of-type {\n",
       "        vertical-align: middle;\n",
       "    }\n",
       "\n",
       "    .dataframe tbody tr th {\n",
       "        vertical-align: top;\n",
       "    }\n",
       "\n",
       "    .dataframe thead th {\n",
       "        text-align: right;\n",
       "    }\n",
       "</style>\n",
       "<table border=\"1\" class=\"dataframe\">\n",
       "  <thead>\n",
       "    <tr style=\"text-align: right;\">\n",
       "      <th></th>\n",
       "      <th>city</th>\n",
       "      <th>trips_in_first_30_days</th>\n",
       "      <th>signup_date</th>\n",
       "      <th>avg_rating_of_driver</th>\n",
       "      <th>avg_surge</th>\n",
       "      <th>last_trip_date</th>\n",
       "      <th>phone</th>\n",
       "      <th>surge_pct</th>\n",
       "      <th>ultimate_black_user</th>\n",
       "      <th>weekday_pct</th>\n",
       "      <th>avg_dist</th>\n",
       "      <th>avg_rating_by_driver</th>\n",
       "      <th>customer_retention</th>\n",
       "    </tr>\n",
       "  </thead>\n",
       "  <tbody>\n",
       "    <tr>\n",
       "      <th>0</th>\n",
       "      <td>King's Landing</td>\n",
       "      <td>4</td>\n",
       "      <td>2014-01-25</td>\n",
       "      <td>4.7</td>\n",
       "      <td>1.10</td>\n",
       "      <td>2014-06-17</td>\n",
       "      <td>iPhone</td>\n",
       "      <td>15.4</td>\n",
       "      <td>True</td>\n",
       "      <td>46.2</td>\n",
       "      <td>3.67</td>\n",
       "      <td>5.0</td>\n",
       "      <td>1</td>\n",
       "    </tr>\n",
       "    <tr>\n",
       "      <th>1</th>\n",
       "      <td>Astapor</td>\n",
       "      <td>0</td>\n",
       "      <td>2014-01-29</td>\n",
       "      <td>5.0</td>\n",
       "      <td>1.00</td>\n",
       "      <td>2014-05-05</td>\n",
       "      <td>Android</td>\n",
       "      <td>0.0</td>\n",
       "      <td>False</td>\n",
       "      <td>50.0</td>\n",
       "      <td>8.26</td>\n",
       "      <td>5.0</td>\n",
       "      <td>0</td>\n",
       "    </tr>\n",
       "    <tr>\n",
       "      <th>2</th>\n",
       "      <td>Astapor</td>\n",
       "      <td>3</td>\n",
       "      <td>2014-01-06</td>\n",
       "      <td>4.3</td>\n",
       "      <td>1.00</td>\n",
       "      <td>2014-01-07</td>\n",
       "      <td>iPhone</td>\n",
       "      <td>0.0</td>\n",
       "      <td>False</td>\n",
       "      <td>100.0</td>\n",
       "      <td>0.77</td>\n",
       "      <td>5.0</td>\n",
       "      <td>1</td>\n",
       "    </tr>\n",
       "    <tr>\n",
       "      <th>3</th>\n",
       "      <td>King's Landing</td>\n",
       "      <td>9</td>\n",
       "      <td>2014-01-10</td>\n",
       "      <td>4.6</td>\n",
       "      <td>1.14</td>\n",
       "      <td>2014-06-29</td>\n",
       "      <td>iPhone</td>\n",
       "      <td>20.0</td>\n",
       "      <td>True</td>\n",
       "      <td>80.0</td>\n",
       "      <td>2.36</td>\n",
       "      <td>4.9</td>\n",
       "      <td>1</td>\n",
       "    </tr>\n",
       "    <tr>\n",
       "      <th>4</th>\n",
       "      <td>Winterfell</td>\n",
       "      <td>14</td>\n",
       "      <td>2014-01-27</td>\n",
       "      <td>4.4</td>\n",
       "      <td>1.19</td>\n",
       "      <td>2014-03-15</td>\n",
       "      <td>Android</td>\n",
       "      <td>11.8</td>\n",
       "      <td>False</td>\n",
       "      <td>82.4</td>\n",
       "      <td>3.13</td>\n",
       "      <td>4.9</td>\n",
       "      <td>1</td>\n",
       "    </tr>\n",
       "  </tbody>\n",
       "</table>\n",
       "</div>"
      ],
      "text/plain": [
       "             city  trips_in_first_30_days signup_date  avg_rating_of_driver  \\\n",
       "0  King's Landing                       4  2014-01-25                   4.7   \n",
       "1         Astapor                       0  2014-01-29                   5.0   \n",
       "2         Astapor                       3  2014-01-06                   4.3   \n",
       "3  King's Landing                       9  2014-01-10                   4.6   \n",
       "4      Winterfell                      14  2014-01-27                   4.4   \n",
       "\n",
       "   avg_surge last_trip_date    phone  surge_pct  ultimate_black_user  \\\n",
       "0       1.10     2014-06-17   iPhone       15.4                 True   \n",
       "1       1.00     2014-05-05  Android        0.0                False   \n",
       "2       1.00     2014-01-07   iPhone        0.0                False   \n",
       "3       1.14     2014-06-29   iPhone       20.0                 True   \n",
       "4       1.19     2014-03-15  Android       11.8                False   \n",
       "\n",
       "   weekday_pct  avg_dist  avg_rating_by_driver  customer_retention  \n",
       "0         46.2      3.67                   5.0                   1  \n",
       "1         50.0      8.26                   5.0                   0  \n",
       "2        100.0      0.77                   5.0                   1  \n",
       "3         80.0      2.36                   4.9                   1  \n",
       "4         82.4      3.13                   4.9                   1  "
      ]
     },
     "execution_count": 302,
     "metadata": {},
     "output_type": "execute_result"
    }
   ],
   "source": [
    "df_part3.head()"
   ]
  },
  {
   "cell_type": "code",
   "execution_count": 303,
   "id": "1aa95bd2",
   "metadata": {},
   "outputs": [
    {
     "name": "stdout",
     "output_type": "stream",
     "text": [
      "<class 'pandas.core.frame.DataFrame'>\n",
      "RangeIndex: 50000 entries, 0 to 49999\n",
      "Data columns (total 13 columns):\n",
      " #   Column                  Non-Null Count  Dtype         \n",
      "---  ------                  --------------  -----         \n",
      " 0   city                    50000 non-null  object        \n",
      " 1   trips_in_first_30_days  50000 non-null  int64         \n",
      " 2   signup_date             50000 non-null  datetime64[ns]\n",
      " 3   avg_rating_of_driver    41878 non-null  float64       \n",
      " 4   avg_surge               50000 non-null  float64       \n",
      " 5   last_trip_date          50000 non-null  datetime64[ns]\n",
      " 6   phone                   50000 non-null  object        \n",
      " 7   surge_pct               50000 non-null  float64       \n",
      " 8   ultimate_black_user     50000 non-null  bool          \n",
      " 9   weekday_pct             50000 non-null  float64       \n",
      " 10  avg_dist                50000 non-null  float64       \n",
      " 11  avg_rating_by_driver    50000 non-null  float64       \n",
      " 12  customer_retention      50000 non-null  int64         \n",
      "dtypes: bool(1), datetime64[ns](2), float64(6), int64(2), object(2)\n",
      "memory usage: 4.6+ MB\n"
     ]
    }
   ],
   "source": [
    "df_part3.info()"
   ]
  },
  {
   "cell_type": "code",
   "execution_count": 304,
   "id": "b46ad53c",
   "metadata": {},
   "outputs": [
    {
     "data": {
      "text/plain": [
       "customer_retention\n",
       "1    0.6922\n",
       "0    0.3078\n",
       "Name: proportion, dtype: float64"
      ]
     },
     "execution_count": 304,
     "metadata": {},
     "output_type": "execute_result"
    }
   ],
   "source": [
    "#\n",
    "df_part3['customer_retention'].value_counts(normalize=True)"
   ]
  },
  {
   "cell_type": "markdown",
   "id": "d7d87931",
   "metadata": {},
   "source": [
    "### We notice that ~69% of riders were retained by Ultimate and ~31 were not retained based on ground truth data"
   ]
  },
  {
   "cell_type": "markdown",
   "id": "f1775e97",
   "metadata": {},
   "source": [
    "### 3.3 Plot heatmap to check correlation between features and target variable"
   ]
  },
  {
   "cell_type": "code",
   "execution_count": 305,
   "id": "cf2c26c1",
   "metadata": {},
   "outputs": [
    {
     "data": {
      "image/png": "[encoded data removed]",
      "text/plain": [
       "<Figure size 1500x1000 with 2 Axes>"
      ]
     },
     "metadata": {},
     "output_type": "display_data"
    }
   ],
   "source": [
    "#plot heatmap to see correlation between variables, encode categorical variables to numeric for correlation analysis\n",
    "df_part3_encoded = df_part3.copy()\n",
    "df_part3_encoded['city'] = df_part3_encoded['city'].map({'Astapor': 0, 'Winterfell': 1, 'King\\'s Landing': 2})\n",
    "df_part3_encoded['phone'] = df_part3_encoded['phone'].map({'iPhone': 0, 'Android': 1})\n",
    "df_part3_encoded['ultimate_black_user'] = df_part3_encoded['ultimate_black_user'].astype(int)\n",
    "\n",
    "\n",
    "import seaborn as sns\n",
    "plt.figure(figsize=(15, 10))\n",
    "sns.heatmap(df_part3_encoded.corr(), annot=True, cmap='coolwarm')\n",
    "plt.show()\n",
    "\n",
    "\n"
   ]
  },
  {
   "cell_type": "markdown",
   "id": "05b71565",
   "metadata": {},
   "source": [
    "We observe -\n",
    "\n",
    "1. `avg_surge` and `surge_pct` are highly correlated (~79%) with each other but have (1%) and (1.1%) with the target variable `customer_retention`, lets drop the one with lower correlation with target variable\n",
    "2. `trips_in_first_30_days` has (~40%) correlation to `customer_retention`, it is moderate relationship and can assist our predictive model. We also notice it is not correlated to other features and doesn't introduce the problem of multicollinearity to the model"
   ]
  },
  {
   "cell_type": "code",
   "execution_count": 306,
   "id": "a3a75a0a",
   "metadata": {},
   "outputs": [],
   "source": [
    "df_part3_encoded.drop(columns=['avg_surge'], inplace=True)\n",
    "df_part3.drop(columns=['avg_surge'], inplace=True)"
   ]
  },
  {
   "cell_type": "code",
   "execution_count": 307,
   "id": "5bd3d068",
   "metadata": {},
   "outputs": [
    {
     "name": "stdout",
     "output_type": "stream",
     "text": [
      "<class 'pandas.core.frame.DataFrame'>\n",
      "RangeIndex: 50000 entries, 0 to 49999\n",
      "Data columns (total 12 columns):\n",
      " #   Column                  Non-Null Count  Dtype         \n",
      "---  ------                  --------------  -----         \n",
      " 0   city                    50000 non-null  int64         \n",
      " 1   trips_in_first_30_days  50000 non-null  int64         \n",
      " 2   signup_date             50000 non-null  datetime64[ns]\n",
      " 3   avg_rating_of_driver    41878 non-null  float64       \n",
      " 4   last_trip_date          50000 non-null  datetime64[ns]\n",
      " 5   phone                   50000 non-null  int64         \n",
      " 6   surge_pct               50000 non-null  float64       \n",
      " 7   ultimate_black_user     50000 non-null  int64         \n",
      " 8   weekday_pct             50000 non-null  float64       \n",
      " 9   avg_dist                50000 non-null  float64       \n",
      " 10  avg_rating_by_driver    50000 non-null  float64       \n",
      " 11  customer_retention      50000 non-null  int64         \n",
      "dtypes: datetime64[ns](2), float64(5), int64(5)\n",
      "memory usage: 4.6 MB\n"
     ]
    }
   ],
   "source": [
    "df_part3_encoded.info()"
   ]
  },
  {
   "cell_type": "code",
   "execution_count": 308,
   "id": "6d54b9ea",
   "metadata": {},
   "outputs": [
    {
     "name": "stdout",
     "output_type": "stream",
     "text": [
      "<class 'pandas.core.frame.DataFrame'>\n",
      "RangeIndex: 50000 entries, 0 to 49999\n",
      "Data columns (total 12 columns):\n",
      " #   Column                  Non-Null Count  Dtype         \n",
      "---  ------                  --------------  -----         \n",
      " 0   city                    50000 non-null  object        \n",
      " 1   trips_in_first_30_days  50000 non-null  int64         \n",
      " 2   signup_date             50000 non-null  datetime64[ns]\n",
      " 3   avg_rating_of_driver    41878 non-null  float64       \n",
      " 4   last_trip_date          50000 non-null  datetime64[ns]\n",
      " 5   phone                   50000 non-null  object        \n",
      " 6   surge_pct               50000 non-null  float64       \n",
      " 7   ultimate_black_user     50000 non-null  bool          \n",
      " 8   weekday_pct             50000 non-null  float64       \n",
      " 9   avg_dist                50000 non-null  float64       \n",
      " 10  avg_rating_by_driver    50000 non-null  float64       \n",
      " 11  customer_retention      50000 non-null  int64         \n",
      "dtypes: bool(1), datetime64[ns](2), float64(5), int64(2), object(2)\n",
      "memory usage: 4.2+ MB\n"
     ]
    }
   ],
   "source": [
    "df_part3.info()"
   ]
  },
  {
   "cell_type": "markdown",
   "id": "1626dc19",
   "metadata": {},
   "source": [
    "## 4. Feature Engineering + Predictive Modeling\n",
    "\n",
    "### 4.1 Baseline Model - Logistic Regression + Simple Imputation (Missing Indicator)\n",
    "\n",
    "Baseline 1: Simple Logistic Regression\n",
    "\n",
    "Because:\n",
    "\n",
    "1. It’s interpretable, \n",
    "2. Works well as a starting pointHandles binary targets naturally\n",
    "3. Good for evaluating feature importance and effects\n",
    "\n",
    "Handling missingness (MAR):\n",
    "\n",
    "1. Create a missingness indicator: X1_missing = 1 if X1 is missing\n",
    "2. Impute missing X1 (mean/median or model-based)\n",
    "3. Include both X1 and X1_missing in the model\n",
    "\n",
    "What to Avoid (Logistic Regression)\n",
    "\n",
    "❌ Feeding raw categorical strings\n",
    "❌ Not scaling numerical features\n",
    "❌ Keeping redundant highly correlated variables (multicollinearity)\n",
    "❌ Imputing blindly without modeling missingness\n",
    "❌ Ignoring skewness / nonlinearity"
   ]
  },
  {
   "cell_type": "markdown",
   "id": "da38a376",
   "metadata": {},
   "source": [
    "#### 4.1.1 Handlle Missing Values in `avg_rating_of_driver`"
   ]
  },
  {
   "cell_type": "code",
   "execution_count": 309,
   "id": "66a62b0b",
   "metadata": {},
   "outputs": [],
   "source": [
    "df_part3_encoded['avg_rating_of_driver_missing'] = df_part3_encoded['avg_rating_of_driver'].isna().astype(int)\n",
    "df_part3_encoded['avg_rating_of_driver'] = df_part3_encoded['avg_rating_of_driver'].fillna(df_part3_encoded['avg_rating_of_driver'].mean())\n"
   ]
  },
  {
   "cell_type": "code",
   "execution_count": 310,
   "id": "4eba2c1a",
   "metadata": {},
   "outputs": [
    {
     "name": "stdout",
     "output_type": "stream",
     "text": [
      "<class 'pandas.core.frame.DataFrame'>\n",
      "RangeIndex: 50000 entries, 0 to 49999\n",
      "Data columns (total 13 columns):\n",
      " #   Column                        Non-Null Count  Dtype         \n",
      "---  ------                        --------------  -----         \n",
      " 0   city                          50000 non-null  int64         \n",
      " 1   trips_in_first_30_days        50000 non-null  int64         \n",
      " 2   signup_date                   50000 non-null  datetime64[ns]\n",
      " 3   avg_rating_of_driver          50000 non-null  float64       \n",
      " 4   last_trip_date                50000 non-null  datetime64[ns]\n",
      " 5   phone                         50000 non-null  int64         \n",
      " 6   surge_pct                     50000 non-null  float64       \n",
      " 7   ultimate_black_user           50000 non-null  int64         \n",
      " 8   weekday_pct                   50000 non-null  float64       \n",
      " 9   avg_dist                      50000 non-null  float64       \n",
      " 10  avg_rating_by_driver          50000 non-null  float64       \n",
      " 11  customer_retention            50000 non-null  int64         \n",
      " 12  avg_rating_of_driver_missing  50000 non-null  int64         \n",
      "dtypes: datetime64[ns](2), float64(5), int64(6)\n",
      "memory usage: 5.0 MB\n"
     ]
    }
   ],
   "source": [
    "df_part3_encoded.info()"
   ]
  },
  {
   "cell_type": "markdown",
   "id": "e0a9ff62",
   "metadata": {},
   "source": [
    "#### 4.1.4 Extract `signup_date` month and `last_trip_date` month"
   ]
  },
  {
   "cell_type": "code",
   "execution_count": 311,
   "id": "8775db60",
   "metadata": {},
   "outputs": [],
   "source": [
    "#extract `signup_date` month and `last_trip_date` month\n",
    "df_part3_encoded['signup_month'] = df_part3_encoded['signup_date'].dt.month\n",
    "df_part3_encoded['last_trip_month'] = df_part3_encoded['last_trip_date'].dt.month\n",
    "#drop the original date columns\n",
    "df_part3_encoded.drop(columns=['signup_date', 'last_trip_date'], inplace=True)"
   ]
  },
  {
   "cell_type": "markdown",
   "id": "be56f02a",
   "metadata": {},
   "source": [
    "#### 4.1.2 Check for skewed features"
   ]
  },
  {
   "cell_type": "code",
   "execution_count": 312,
   "id": "fe1548a8",
   "metadata": {},
   "outputs": [
    {
     "data": {
      "image/png": "[encoded data removed]",
      "text/plain": [
       "<Figure size 1500x1000 with 16 Axes>"
      ]
     },
     "metadata": {},
     "output_type": "display_data"
    }
   ],
   "source": [
    "#check for skewed features\n",
    "df_part3_encoded.hist(bins=30, figsize=(15, 10))\n",
    "plt.show()"
   ]
  },
  {
   "cell_type": "code",
   "execution_count": 313,
   "id": "624fa908",
   "metadata": {},
   "outputs": [],
   "source": [
    "from sklearn.pipeline import Pipeline\n",
    "from sklearn.compose import ColumnTransformer\n",
    "from sklearn.preprocessing import OneHotEncoder, StandardScaler\n",
    "from sklearn.impute import SimpleImputer\n",
    "from sklearn.linear_model import LogisticRegression\n",
    "from sklearn.preprocessing import FunctionTransformer\n",
    "import numpy as np\n",
    "\n",
    "# Define a log transformation function (add 1 to avoid log(0))\n",
    "log_transformer = FunctionTransformer(lambda x: np.log1p(x), validate=True)\n",
    "\n",
    "numeric_features = ['avg_dist', 'avg_rating_by_driver', 'avg_rating_of_driver', 'surge_pct', 'trips_in_first_30_days', 'weekday_pct', 'signup_month']\n",
    "categorical_features = ['phone', 'city', 'ultimate_black_user', 'avg_rating_of_driver_missing', 'last_trip_month']\n",
    "\n",
    "numeric_transformer = Pipeline(steps=[\n",
    "    ('imputer', SimpleImputer(strategy='mean')),\n",
    "    ('log', log_transformer),\n",
    "    ('scaler', StandardScaler())\n",
    "])\n",
    "\n",
    "categorical_transformer = Pipeline(steps=[\n",
    "    ('imputer', SimpleImputer(strategy='most_frequent')),\n",
    "    ('encoder', OneHotEncoder(drop='first'))\n",
    "])\n",
    "\n",
    "preprocessor = ColumnTransformer(\n",
    "    transformers=[\n",
    "        ('num', numeric_transformer, numeric_features),\n",
    "        ('cat', categorical_transformer, categorical_features)\n",
    "    ])\n",
    "\n",
    "clf = Pipeline(steps=[\n",
    "    ('preprocessor', preprocessor),\n",
    "    ('classifier', LogisticRegression(max_iter=1000))\n",
    "])\n"
   ]
  },
  {
   "cell_type": "code",
   "execution_count": null,
   "id": "ee55a1cc",
   "metadata": {},
   "outputs": [
    {
     "name": "stdout",
     "output_type": "stream",
     "text": [
      "ROC AUC Score: 1.0\n",
      "Classification Report:\n",
      "               precision    recall  f1-score   support\n",
      "\n",
      "           0       1.00      1.00      1.00      3078\n",
      "           1       1.00      1.00      1.00      6922\n",
      "\n",
      "    accuracy                           1.00     10000\n",
      "   macro avg       1.00      1.00      1.00     10000\n",
      "weighted avg       1.00      1.00      1.00     10000\n",
      "\n"
     ]
    },
    {
     "ename": "AttributeError",
     "evalue": "'Pipeline' object has no attribute 'coef_'",
     "output_type": "error",
     "traceback": [
      "\u001b[0;31m---------------------------------------------------------------------------\u001b[0m",
      "\u001b[0;31mAttributeError\u001b[0m                            Traceback (most recent call last)",
      "Cell \u001b[0;32mIn[321], line 37\u001b[0m\n\u001b[1;32m     34\u001b[0m feature_names \u001b[38;5;241m=\u001b[39m np\u001b[38;5;241m.\u001b[39mconcatenate([num_feature_names, cat_feature_names])\n\u001b[1;32m     36\u001b[0m \u001b[38;5;66;03m# Get importances\u001b[39;00m\n\u001b[0;32m---> 37\u001b[0m importance \u001b[38;5;241m=\u001b[39m clf\u001b[38;5;241m.\u001b[39mcoef_[\u001b[38;5;241m0\u001b[39m]\n\u001b[1;32m     38\u001b[0m feature_importance \u001b[38;5;241m=\u001b[39m pd\u001b[38;5;241m.\u001b[39mDataFrame({\u001b[38;5;124m'\u001b[39m\u001b[38;5;124mFeature\u001b[39m\u001b[38;5;124m'\u001b[39m: feature_names, \u001b[38;5;124m'\u001b[39m\u001b[38;5;124mImportance\u001b[39m\u001b[38;5;124m'\u001b[39m: importance})\n\u001b[1;32m     39\u001b[0m feature_importance \u001b[38;5;241m=\u001b[39m feature_importance\u001b[38;5;241m.\u001b[39msort_values(by\u001b[38;5;241m=\u001b[39m\u001b[38;5;124m'\u001b[39m\u001b[38;5;124mImportance\u001b[39m\u001b[38;5;124m'\u001b[39m, ascending\u001b[38;5;241m=\u001b[39m\u001b[38;5;28;01mFalse\u001b[39;00m)\n",
      "\u001b[0;31mAttributeError\u001b[0m: 'Pipeline' object has no attribute 'coef_'"
     ]
    }
   ],
   "source": [
    "from sklearn.model_selection import train_test_split\n",
    "from sklearn.metrics import roc_auc_score, classification_report\n",
    "\n",
    "# Define your important features (example list)\n",
    "important_features = numeric_features + categorical_features\n",
    "\n",
    "# Prepare X and y\n",
    "X = df_part3_encoded[important_features]\n",
    "y = df_part3_encoded['customer_retention']\n",
    "\n",
    "# Train/test split with stratification\n",
    "X_train, X_test, y_train, y_test = train_test_split(\n",
    "    X, y, test_size=0.2, stratify=y, random_state=42\n",
    ")\n",
    "\n",
    "# Fit the pipeline\n",
    "clf.fit(X_train, y_train)\n",
    "\n",
    "# Predict probabilities and labels\n",
    "y_pred_proba = clf.predict_proba(X_test)[:, 1]\n",
    "y_pred = clf.predict(X_test)\n",
    "\n",
    "# Evaluate\n",
    "print(\"ROC AUC Score:\", roc_auc_score(y_test, y_pred_proba))\n",
    "print(\"Classification Report:\\n\", classification_report(y_test, y_pred))\n",
    "\n",
    "# Get categorical feature names from OneHotEncoder\n",
    "cat_feature_names = clf.named_steps['preprocessor'].named_transformers_['cat'].named_steps['encoder'].get_feature_names_out(categorical_features)\n",
    "\n",
    "# Numeric features (after log/scaler) keep their original names\n",
    "num_feature_names = numeric_features\n",
    "\n",
    "# Combine\n",
    "feature_names = np.concatenate([num_feature_names, cat_feature_names])\n",
    "\n",
    "# Get importances\n",
    "importance = model.coef_[0]\n",
    "feature_importance = pd.DataFrame({'Feature': feature_names, 'Importance': importance})\n",
    "feature_importance = feature_importance.sort_values(by='Importance', ascending=False)\n",
    "print(feature_importance)\n"
   ]
  },
  {
   "cell_type": "markdown",
   "id": "4e966e7c",
   "metadata": {},
   "source": [
    "## Interpretation of Baseline Model"
   ]
  },
  {
   "cell_type": "markdown",
   "id": "d619f3ad",
   "metadata": {},
   "source": [
    "Collecting workspace informationYou built a predictive model to determine whether a user will be active in their 6th month (customer retention) using the Ultimate dataset. My approach involved:\n",
    "\n",
    "- **Data Cleaning & Imputation:**  \n",
    "  - Imputed missing values for `avg_rating_by_driver` (mean) and `phone` (mode).\n",
    "  - For `avg_rating_of_driver` (~16% missing), you analyzed missingness and included a missingness indicator for modeling.\n",
    "\n",
    "- **Feature Engineering:**  \n",
    "  - Created a binary target variable `customer_retention` (active in 6th month).\n",
    "  - Encoded categorical variables (`city`, `phone`, `ultimate_black_user`) numerically.\n",
    "  - Dropped highly correlated features (`avg_surge`).\n",
    "\n",
    "- **Modeling:**  \n",
    "  - Used a logistic regression pipeline with log transformation and scaling for numeric features, and one-hot encoding for categorical features.\n",
    "  - Included missingness indicators to handle MAR (Missing At Random) data.\n",
    "\n",
    "- **Alternatives Considered:**  \n",
    "  - Advanced imputation (KNN, MICE), tree-based models (Random Forest/XGBoost), and regression imputation.\n",
    "  - You chose logistic regression for interpretability and baseline comparison.\n",
    "\n",
    "- **Model Validity & Performance:**  \n",
    "  - Evaluated using ROC AUC and classification report (precision, recall, f1-score).\n",
    "  - Stratified train/test split to ensure balanced classes.\n",
    "  - Feature importance extracted to interpret model drivers.\n",
    "\n",
    "**Concerns:**  \n",
    "- Potential bias from imputation, especially for variables with >10% missingness.\n",
    "- Model assumes MAR; if missingness is MNAR, results may be biased.\n",
    "- Logistic regression may not capture nonlinear relationships.\n",
    "\n",
    "**Key Indicators:**  \n",
    "- ROC AUC Score (reported in output).\n",
    "- Classification report (precision, recall, f1-score for retained/not retained).\n",
    "- Feature importance ranking.\n",
    "\n",
    "My model is valid as a baseline and interpretable, but further validation (cross-validation, alternative models, deeper missingness analysis) is recommended for production use.\n"
   ]
  },
  {
   "cell_type": "markdown",
   "id": "9580b399",
   "metadata": {},
   "source": [
    "### Long Term Planning"
   ]
  },
  {
   "cell_type": "markdown",
   "id": "5d99c741",
   "metadata": {},
   "source": [
    "Ultimate can use the model’s insights to identify key factors driving rider retention, such as trip frequency, ratings, and city-specific behaviors. By targeting users who are less likely to be retained—through personalized incentives, improved driver matching, or tailored communication—Ultimate can proactively address churn risks. Additionally, understanding which features most influence retention allows Ultimate to refine onboarding, loyalty programs, and service quality, ultimately improving long-term rider engagement and retention.\n"
   ]
  },
  {
   "cell_type": "markdown",
   "id": "098f8aef",
   "metadata": {},
   "source": [
    "### 4.2 Simple XGBoost Model"
   ]
  },
  {
   "cell_type": "code",
   "execution_count": 330,
   "id": "f6d97ce0",
   "metadata": {},
   "outputs": [
    {
     "name": "stdout",
     "output_type": "stream",
     "text": [
      "<class 'pandas.core.frame.DataFrame'>\n",
      "RangeIndex: 50000 entries, 0 to 49999\n",
      "Data columns (total 12 columns):\n",
      " #   Column                  Non-Null Count  Dtype         \n",
      "---  ------                  --------------  -----         \n",
      " 0   city                    50000 non-null  object        \n",
      " 1   trips_in_first_30_days  50000 non-null  int64         \n",
      " 2   signup_date             50000 non-null  datetime64[ns]\n",
      " 3   avg_rating_of_driver    41878 non-null  float64       \n",
      " 4   last_trip_date          50000 non-null  datetime64[ns]\n",
      " 5   phone                   50000 non-null  object        \n",
      " 6   surge_pct               50000 non-null  float64       \n",
      " 7   ultimate_black_user     50000 non-null  bool          \n",
      " 8   weekday_pct             50000 non-null  float64       \n",
      " 9   avg_dist                50000 non-null  float64       \n",
      " 10  avg_rating_by_driver    50000 non-null  float64       \n",
      " 11  customer_retention      50000 non-null  int64         \n",
      "dtypes: bool(1), datetime64[ns](2), float64(5), int64(2), object(2)\n",
      "memory usage: 4.2+ MB\n"
     ]
    }
   ],
   "source": [
    "df_part3.info()"
   ]
  },
  {
   "cell_type": "code",
   "execution_count": null,
   "id": "926b8114",
   "metadata": {},
   "outputs": [
    {
     "name": "stdout",
     "output_type": "stream",
     "text": [
      "<class 'pandas.core.frame.DataFrame'>\n",
      "RangeIndex: 50000 entries, 0 to 49999\n",
      "Data columns (total 11 columns):\n",
      " #   Column                  Non-Null Count  Dtype         \n",
      "---  ------                  --------------  -----         \n",
      " 0   avg_dist                50000 non-null  float64       \n",
      " 1   avg_rating_by_driver    50000 non-null  float64       \n",
      " 2   avg_rating_of_driver    41878 non-null  float64       \n",
      " 3   city                    50000 non-null  object        \n",
      " 4   last_trip_date          50000 non-null  datetime64[ns]\n",
      " 5   phone                   50000 non-null  object        \n",
      " 6   signup_date             50000 non-null  datetime64[ns]\n",
      " 7   surge_pct               50000 non-null  float64       \n",
      " 8   trips_in_first_30_days  50000 non-null  int64         \n",
      " 9   ultimate_black_user     50000 non-null  bool          \n",
      " 10  weekday_pct             50000 non-null  float64       \n",
      "dtypes: bool(1), datetime64[ns](2), float64(5), int64(1), object(2)\n",
      "memory usage: 3.9+ MB\n"
     ]
    }
   ],
   "source": [
    "# create a XGBoost model and compare results with logistic regression\n",
    "import xgboost as xgb\n",
    "from sklearn.pipeline import Pipeline\n",
    "from sklearn.compose import ColumnTransformer\n",
    "from sklearn.preprocessing import OneHotEncoder\n",
    "from sklearn.impute import SimpleImputer\n",
    "\n",
    "# Only impute missing values and encode categoricals\n",
    "categorical_features_xgb = ['phone', 'city', 'ultimate_black_user']\n",
    "\n",
    "categorical_transformer_xgb = Pipeline(steps=[\n",
    "    ('encoder', OneHotEncoder(drop='first'))\n",
    "])\n",
    "\n",
    "preprocessor_xgb = ColumnTransformer(\n",
    "    transformers=[\n",
    "        ('cat', categorical_transformer_xgb, categorical_features_xgb)\n",
    "    ]\n",
    ")\n",
    "\n",
    "xgb_clf = Pipeline(steps=[\n",
    "    ('preprocessor', preprocessor_xgb),\n",
    "    ('classifier', xgb.XGBClassifier(use_label_encoder=False, eval_metric='logloss'))\n",
    "])\n",
    "\n",
    "# use original dataset = df_part3 and generate X and y again\n",
    "X_xgb = df_part3[df_part3.columns.difference(['customer_retention'])]\n",
    "y_xgb = df_part3['customer_retention']\n",
    "\n",
    "# Train/test split with stratification\n",
    "X_train_xgb, X_test_xgb, y_train_xgb, y_test_xgb = train_test_split(\n",
    "    X_xgb, y_xgb, test_size=0.2, stratify=y_xgb, random_state=42\n",
    ")"
   ]
  },
  {
   "cell_type": "code",
   "execution_count": 334,
   "id": "ee26eacb",
   "metadata": {},
   "outputs": [
    {
     "name": "stdout",
     "output_type": "stream",
     "text": [
      "XGBoost ROC AUC Score: 0.5359387505329506\n",
      "XGBoost Classification Report:\n",
      "               precision    recall  f1-score   support\n",
      "\n",
      "           0       0.00      0.00      0.00      3078\n",
      "           1       0.69      1.00      0.82      6922\n",
      "\n",
      "    accuracy                           0.69     10000\n",
      "   macro avg       0.35      0.50      0.41     10000\n",
      "weighted avg       0.48      0.69      0.57     10000\n",
      "\n",
      "Feature names length: 4\n",
      "Importances length: 4\n",
      "                         Feature  Importance\n",
      "2           cat__city_Winterfell    0.689735\n",
      "3  cat__ultimate_black_user_True    0.236151\n",
      "1       cat__city_King's Landing    0.068878\n",
      "0              cat__phone_iPhone    0.005236\n"
     ]
    },
    {
     "name": "stderr",
     "output_type": "stream",
     "text": [
      "/opt/anaconda3/lib/python3.12/site-packages/xgboost/training.py:183: UserWarning: [18:16:32] WARNING: /Users/runner/work/xgboost/xgboost/src/learner.cc:738: \n",
      "Parameters: { \"use_label_encoder\" } are not used.\n",
      "\n",
      "  bst.update(dtrain, iteration=i, fobj=obj)\n",
      "/opt/anaconda3/lib/python3.12/site-packages/sklearn/metrics/_classification.py:1531: UndefinedMetricWarning: Precision is ill-defined and being set to 0.0 in labels with no predicted samples. Use `zero_division` parameter to control this behavior.\n",
      "  _warn_prf(average, modifier, f\"{metric.capitalize()} is\", len(result))\n",
      "/opt/anaconda3/lib/python3.12/site-packages/sklearn/metrics/_classification.py:1531: UndefinedMetricWarning: Precision is ill-defined and being set to 0.0 in labels with no predicted samples. Use `zero_division` parameter to control this behavior.\n",
      "  _warn_prf(average, modifier, f\"{metric.capitalize()} is\", len(result))\n",
      "/opt/anaconda3/lib/python3.12/site-packages/sklearn/metrics/_classification.py:1531: UndefinedMetricWarning: Precision is ill-defined and being set to 0.0 in labels with no predicted samples. Use `zero_division` parameter to control this behavior.\n",
      "  _warn_prf(average, modifier, f\"{metric.capitalize()} is\", len(result))\n"
     ]
    }
   ],
   "source": [
    "# Fit the pipeline on training data\n",
    "xgb_clf.fit(X_train_xgb, y_train_xgb)\n",
    "y_pred_proba_xgb = xgb_clf.predict_proba(X_test_xgb)[:, 1]\n",
    "y_pred_xgb = xgb_clf.predict(X_test_xgb)\n",
    "print(\"XGBoost ROC AUC Score:\", roc_auc_score(y_test_xgb, y_pred_proba_xgb))\n",
    "print(\"XGBoost Classification Report:\\n\", classification_report(y_test_xgb, y_pred_xgb))\n",
    "\n",
    "# After fitting xgb_clf\n",
    "feature_names = xgb_clf.named_steps['preprocessor'].get_feature_names_out()\n",
    "xgb_importance = xgb_clf.named_steps['classifier'].feature_importances_\n",
    "\n",
    "print(\"Feature names length:\", len(feature_names))\n",
    "print(\"Importances length:\", len(xgb_importance))\n",
    "\n",
    "xgb_feature_importance = pd.DataFrame({\n",
    "    'Feature': feature_names,\n",
    "    'Importance': xgb_importance\n",
    "})\n",
    "xgb_feature_importance = xgb_feature_importance.sort_values(by='Importance', ascending=False)\n",
    "print(xgb_feature_importance)\n",
    "\n"
   ]
  },
  {
   "cell_type": "markdown",
   "id": "d14335bd",
   "metadata": {},
   "source": [
    "# Extra Notes"
   ]
  },
  {
   "cell_type": "markdown",
   "id": "456388fe",
   "metadata": {},
   "source": [
    "some of the variables `trips_in_first_30_days` , `surge_pct`, `avg_dist`, `avg_rating_by_driver`, `avg_rating_of_driver` are skewed, so lets take log transformations of these and drop the original features for Logistic Regression Base model"
   ]
  },
  {
   "cell_type": "code",
   "execution_count": null,
   "id": "026df7b1",
   "metadata": {},
   "outputs": [],
   "source": [
    "# # take log transformations of these and drop the original features for Logistic Regression Base model\n",
    "# import numpy as np\n",
    "# df_part3_encoded['log_trips_in_first_30_days'] = np.log1p(df_part3_encoded['trips_in_first_30_days'])\n",
    "# df_part3_encoded['log_surge_pct'] = np.log1p(df_part3_encoded['surge_pct'])\n",
    "# df_part3_encoded['log_avg_dist'] = np.log1p(df_part3_encoded['avg_dist'])\n",
    "# df_part3_encoded['log_avg_rating_by_driver'] = np.log1p(df_part3_encoded['avg_rating_by_driver'])\n",
    "# df_part3_encoded['log_avg_rating_of_driver'] = np.log1p(df_part3_encoded['avg_rating_of_driver'])\n",
    "\n",
    "# df_part3_encoded.info()\n",
    "# df_part3_encoded.drop(columns=['trips_in_first_30_days', 'surge_pct', 'avg_dist', 'avg_rating_by_driver', 'avg_rating_of_driver'], inplace=True)\n"
   ]
  },
  {
   "cell_type": "markdown",
   "id": "df0c359e",
   "metadata": {},
   "source": [
    "#### 4.1.3 One-hot encoding nominal categorical features"
   ]
  },
  {
   "cell_type": "code",
   "execution_count": null,
   "id": "401137f7",
   "metadata": {},
   "outputs": [],
   "source": [
    "#one-hot encoding nominal categorical features and drop the original columns to avoid dummy variable trap\n",
    "# df_part3_encoded = pd.get_dummies(df_part3_encoded, columns=['city', 'phone', 'ultimate_black_user'], drop_first=True)\n",
    "\n"
   ]
  },
  {
   "cell_type": "code",
   "execution_count": null,
   "id": "8beaa320",
   "metadata": {},
   "outputs": [],
   "source": [
    "# df_part3_encoded.info()"
   ]
  },
  {
   "cell_type": "code",
   "execution_count": null,
   "id": "104fa825",
   "metadata": {},
   "outputs": [],
   "source": [
    "# df_part3_encoded.info()"
   ]
  },
  {
   "cell_type": "code",
   "execution_count": null,
   "id": "18226f57",
   "metadata": {},
   "outputs": [],
   "source": [
    "# #plot histogram of all features to check for skewness again\n",
    "# df_part3_encoded.hist(bins=30, figsize=(15, 10))\n",
    "# plt.show()"
   ]
  },
  {
   "cell_type": "markdown",
   "id": "528b1dee",
   "metadata": {},
   "source": [
    "#### 4.1.4 Build base logistic regression model"
   ]
  },
  {
   "cell_type": "code",
   "execution_count": null,
   "id": "dd1a78ad",
   "metadata": {},
   "outputs": [],
   "source": [
    "# from sklearn.linear_model import LogisticRegression\n",
    "# from sklearn.model_selection import train_test_split\n",
    "# from sklearn.metrics import roc_auc_score\n",
    "# #Scale the features using StandardScaler\n",
    "# from sklearn.preprocessing import StandardScaler\n",
    "# scaler = StandardScaler()\n",
    "# df_part3_encoded[df_part3_encoded.columns.difference(['customer_retention'])] = scaler.fit_transform(df_part3_encoded[df_part3_encoded.columns.difference(['customer_retention'])])\n",
    "\n",
    "# X = df_part3_encoded[df_part3_encoded.columns.difference(['customer_retention'])]  \n",
    "# y = df_part3_encoded['customer_retention']\n",
    "\n",
    "# X_train, X_test, y_train, y_test = train_test_split(X, y, stratify=y, random_state=42)\n",
    "\n",
    "# model = LogisticRegression(max_iter=1000)\n",
    "# model.fit(X_train, y_train)\n",
    "\n",
    "# preds = model.predict_proba(X_test)[:, 1]\n",
    "# roc_auc = roc_auc_score(y_test, preds)\n",
    "# print(f\"ROC AUC Score: {roc_auc}\")\n"
   ]
  },
  {
   "cell_type": "code",
   "execution_count": null,
   "id": "e5cc779f",
   "metadata": {},
   "outputs": [],
   "source": [
    "# #show other metrics like confusion matrix, classification report\n",
    "# from sklearn.metrics import confusion_matrix, classification_report\n",
    "# y_pred = model.predict(X_test)\n",
    "# cm = confusion_matrix(y_test, y_pred)\n",
    "# cr = classification_report(y_test, y_pred)\n",
    "# print(\"Confusion Matrix:\")\n",
    "# print(cm)"
   ]
  },
  {
   "cell_type": "markdown",
   "id": "5a1814c5",
   "metadata": {},
   "source": [
    "## NOTE 1: general pricinples on Handling Missing values\n",
    "\n",
    "### Analyzing Impact of Missingness (>10%)\n",
    "\n",
    "### 1. **Analyze Impact**\n",
    "- **Check if missingness is random:**  \n",
    "  - Use missingness indicator (`isnull()`) and compare with other variables (see if missingness is related to outcome or predictors).\n",
    "  - Use statistical tests (Chi-square for categorical, t-test/ANOVA for continuous).\n",
    "- **Compare distributions:**  \n",
    "  - Compare summary statistics and distributions of other variables for missing vs. non-missing groups.\n",
    "- **Model missingness:**  \n",
    "  - Build a model to predict missingness using other features. If prediction is good, missingness is not random.\n",
    "\n",
    "### 2. **Advanced Imputation Methods**\n",
    "\n",
    "#### **For Continuous Variables**\n",
    "- **KNN Imputation:**  \n",
    "  - Impute missing values using the mean of k-nearest neighbors.\n",
    "  - Good for data with similar patterns among samples.\n",
    "  - Use `sklearn.impute.KNNImputer`.\n",
    "\n",
    "- **Regression Imputation:**  \n",
    "  - Predict missing values using regression models trained on non-missing data.\n",
    "  - Can use linear regression or more complex models.\n",
    "\n",
    "- **Multiple Imputation (MICE):**  \n",
    "  - Iteratively imputes missing values using chained equations.\n",
    "  - Accounts for uncertainty by creating multiple imputed datasets.\n",
    "  - Use `statsmodels.imputation.mice` or `fancyimpute`.\n",
    "\n",
    "#### **For Categorical Variables**\n",
    "- **Mode Imputation:**  \n",
    "  - Impute with most frequent value (only if missingness is random and % is not too high).\n",
    "- **Predictive Imputation:**  \n",
    "  - Use classification models (e.g., logistic regression, decision trees) to predict missing category.\n",
    "- **MICE for categorical:**  \n",
    "  - MICE can also handle categorical variables using logistic regression or similar methods.\n",
    "\n",
    "#### **For Time Series**\n",
    "- **Interpolation:**  \n",
    "  - Use linear, polynomial, or spline interpolation for missing values.\n",
    "- **Forward/Backward Fill:**  \n",
    "  - Fill missing values with previous or next observed value (useful for ordered data).\n",
    "\n",
    "### 3. **Type of Problem Statement**\n",
    "\n",
    "- **Prediction/Classification:**  \n",
    "  - Imputation should not introduce bias that affects target variable.\n",
    "  - Advanced methods (KNN, MICE) preserve relationships between features.\n",
    "  - If missingness is related to target, consider including missingness indicator as a feature.\n",
    "\n",
    "- **Clustering/Unsupervised:**  \n",
    "  - Imputation should preserve natural groupings.\n",
    "  - KNN or MICE are preferred over mean/mode.\n",
    "\n",
    "### 4. **Choosing the Right Model**\n",
    "\n",
    "- **Tree-based models (Random Forest, XGBoost):**  \n",
    "  - Can handle missing values natively or with missingness indicators.\n",
    "  - Less sensitive to imputation method.\n",
    "\n",
    "- **Linear models (Logistic/Linear Regression):**  \n",
    "  - Require complete data; imputation method can affect results.\n",
    "  - Advanced imputation (MICE, regression) is preferred.\n",
    "\n",
    "- **Deep Learning:**  \n",
    "  - Requires complete data; use advanced imputation or mask missing values.\n",
    "\n",
    "**Summary:**  \n",
    "- For >10% missingness, always analyze if missingness is random and its impact.\n",
    "- Use advanced imputation (KNN, MICE, regression) for continuous; predictive/classification for categorical.\n",
    "- Choose models that are robust to imputation or include missingness indicators if appropriate."
   ]
  },
  {
   "cell_type": "markdown",
   "id": "a32832e3",
   "metadata": {},
   "source": [
    "## NOTE 2: Missingness Types + Examples"
   ]
  },
  {
   "cell_type": "markdown",
   "id": "f96b77e1",
   "metadata": {},
   "source": [
    "| Type     | Full Form                    | Meaning                                                                                             | Example                                                                                                     |\n",
    "| -------- | ---------------------------- | --------------------------------------------------------------------------------------------------- | ----------------------------------------------------------------------------------------------------------- |\n",
    "| **MCAR** | Missing Completely At Random | Missingness is **completely unrelated** to any variable, observed or unobserved.                    | A sensor randomly fails 5% of the time for no reason.                                                       |\n",
    "| **MAR**  | Missing At Random            | Missingness is **related to other observed variables**, but **not** to the missing variable itself. | People with low education are less likely to report income. Once you know education, missingness is random. |\n",
    "| **MNAR** | Missing Not At Random        | Missingness is **related to the missing variable itself** (or unobserved factors).                  | High-income people hide their income; missingness depends on income itself.                                 |\n"
   ]
  }
 ],
 "metadata": {
  "kernelspec": {
   "display_name": "base",
   "language": "python",
   "name": "python3"
  },
  "language_info": {
   "codemirror_mode": {
    "name": "ipython",
    "version": 3
   },
   "file_extension": ".py",
   "mimetype": "text/x-python",
   "name": "python",
   "nbconvert_exporter": "python",
   "pygments_lexer": "ipython3",
   "version": "3.12.7"
  }
 },
 "nbformat": 4,
 "nbformat_minor": 5
}
