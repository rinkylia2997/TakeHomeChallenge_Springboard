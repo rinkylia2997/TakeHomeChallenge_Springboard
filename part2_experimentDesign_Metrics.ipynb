{
 "cells": [
  {
   "cell_type": "markdown",
   "id": "c0d93ec8",
   "metadata": {},
   "source": [
    "# Experiment Design and Metrics Setup"
   ]
  },
  {
   "cell_type": "markdown",
   "id": "ce165bd0",
   "metadata": {},
   "source": [
    "The neighboring cities of Gotham and Metropolis have complementary circadian rhythms: on\n",
    "weekdays, Ultimate Gotham is most active at night, and Ultimate Metropolis is most active\n",
    "during the day. On weekends, there is reasonable activity in both cities.\n",
    "However, a toll bridge, with a two way toll, between the two cities causes driver partners to tend\n",
    "to be exclusive to each city. The Ultimate managers of city operations for the two cities have\n",
    "proposed an experiment to encourage driver partners to be available in both cities, by\n",
    "reimbursing all toll costs.\n",
    "1) What would you choose as the key measure of success of this experiment in\n",
    "encouraging driver partners to serve both cities, and why would you choose this metric?\n",
    "2) Describe a practical experiment you would design to compare the effectiveness of the\n",
    "proposed change in relation to the key measure of success. Please provide details on: <br>\n",
    "a) how you will implement the experiment <br>\n",
    "b) what statistical test(s) you will conduct to verify the significance of the\n",
    "observation <br>\n",
    "c) how you would interpret the results and provide recommendations to the city\n",
    "operations team along with any caveats.<br>\n",
    "Note: The two cities of Gotham and Metropolis are not in the provided dataset; however, you do\n",
    "not need this information to answer Part 2."
   ]
  },
  {
   "cell_type": "markdown",
   "id": "1276c578",
   "metadata": {},
   "source": [
    "# Solutions"
   ]
  },
  {
   "cell_type": "markdown",
   "id": "5d2070ac",
   "metadata": {},
   "source": [
    "#### 1. What would you choose as the key measure of success of this experiment in encouraging driver partners to serve both cities, and why would you choose this metric?"
   ]
  },
  {
   "cell_type": "markdown",
   "id": "2aafa1ea",
   "metadata": {},
   "source": [
    "\n",
    "Some key success metrics will be - \n",
    "1. An increase in the toll costs to be covered by Ultimate Managers in the group whose toll charges were promised to be covered.\n",
    "2. Increase in revenue during weekdays in the morning in Metropolis\n",
    "3. Increase in revenue during weekdays at night in Gotham\n",
    "4. Overall increase in revenue during weekends in both cities.\n",
    "5. Overall profit for the above three cases , weekday (morning) in Metropolis; weekday (night) in Gotham; weeken (cumulative profit)\n",
    "\n",
    "##### Why\n",
    "\n",
    "1. Toll cost measurement is indicative of cross-city travel by drivers, higher toll charges indicate higher inter city activity between drivers which is directly correspondent to the expectation of the problem statement.\n",
    "2. Success ultimately is measured in terms of the profit incurred by Ultimate group and to measure profit we need to look at the revenue generated separately at each cities in the morning and at night at Metropolis and Gotham respectively and revenue generated cumulatively during the weekends in both cities. We subtract toll charges from it to measure immediate success of the plan."
   ]
  },
  {
   "cell_type": "markdown",
   "id": "f3a70587",
   "metadata": {},
   "source": [
    "#### 2) Describe a practical experiment you would design to compare the effectiveness of the proposed change in relation to the key measure of success. Please provide details on: <br>\n",
    "#### a) how you will implement the experiment <br>\n",
    "#### b) what statistical test(s) you will conduct to verify the significance of the observation <br>\n",
    "#### c) how you would interpret the results and provide recommendations to the city operations team along with any caveats.<br>\n",
    "Note: The two cities of Gotham and Metropolis are not in the provided dataset; however, you do\n",
    "not need this information to answer Part 2."
   ]
  },
  {
   "cell_type": "markdown",
   "id": "19896d9d",
   "metadata": {},
   "source": [
    "2a) The goal is to conduct and A/B Test where there is a control group having drivers who weren't offered toll reimbursement and an experiment group of drivers who were offered toll reimbursement everytime they crossed between cities Gotham and Metropolis\n",
    "\n",
    "There are various components to the A/B tests, along with certain assumptions and they are -\n",
    "\n",
    "1. We sample drivers from both cities equally , since there are comparably equal number of drivers in both cities based on our assumptions. If not we incorporate SMOTE , stratified sampling or advanced statistical tests that don't need similar group sizes\n",
    "2. We need to check the driving activity of the selected drivers for atleast 2 weeks to cover weekday/weekend patterns , on an average track the toll expenses Out-of-Pocket and the revenue generated across our success metrics and profit / loss gained/suffered. ( This will be our control group )\n",
    "3. We repeat the same experiment with the other group equally comparable in size to our control group but this time Ultimate managers cover their toll cost. We collect data for all the success metrics similarly\n",
    "\n",
    "Assumptions -\n",
    "\n",
    "1. Each driver has a unique `driver_id` and a `city` column specifying which city they are originally from.\n",
    "2. Cost of the drive `drive_cost` is comparable to the miles covered in the drive + flat booking cost\n",
    "3. There are comparably equal number of drivers in both cities with n >= 100, where n is the number of drivers from each city , ideally it could be >= 30, but we choose >=100 for robustness\n",
    "4. Let's assume that all drivers consider only toll to be the impeding factor and don't have personal bias to travel between cities. \n"
   ]
  },
  {
   "cell_type": "markdown",
   "id": "f1d03f37",
   "metadata": {},
   "source": [
    "2b) For your A/B test, you should use statistical tests that compare the means or proportions between the control and experiment groups. Here are recommended tests:\n",
    "\n",
    "Independent t-test\n",
    "Use if group sizes and variances are similar, and your outcome (e.g., revenue) is continuous and approximately normally distributed.\n",
    "\n",
    "Welch’s t-test\n",
    "Use if group sizes or variances are unequal. This is robust for most real-world A/B tests.\n",
    "\n",
    "Mann-Whitney U test\n",
    "Use if your data is not normally distributed (non-parametric test for continuous outcomes).\n",
    "\n",
    "Chi-square test\n",
    "Use if your outcome is categorical (e.g., proportion of drivers crossing cities).\n",
    "\n",
    "Summary:\n",
    "\n",
    "For revenue or toll cost: Welch’s t-test or Mann-Whitney U test\n",
    "For proportions (e.g., % of drivers crossing): Chi-square test\n",
    "Always check assumptions (normality, equal variance) before choosing the test."
   ]
  },
  {
   "cell_type": "markdown",
   "id": "285412eb",
   "metadata": {},
   "source": [
    "2c) To interpret the results, compare the key metrics (e.g., cross-city trips, revenue, profit) between the control and experiment groups using the chosen statistical tests. If the experiment group shows a statistically significant increase in these metrics (p-value < 0.05), it suggests that toll reimbursement encourages drivers to serve both cities and improves business outcomes.\n",
    "\n",
    "**Recommendations:**\n",
    "- If results are significant, recommend implementing toll reimbursement to boost cross-city activity and revenue.\n",
    "- Monitor long-term effects to ensure sustained impact and profitability.\n",
    "- Consider scaling the experiment or adjusting reimbursement policies based on observed driver behavior.\n",
    "\n",
    "**Caveats:**\n",
    "- Results may be affected by external factors (seasonality, local events, driver preferences).\n",
    "- Ensure sample sizes are sufficient for statistical power.\n",
    "- Imbalances in group sizes or unmeasured confounders may bias results.\n",
    "- Short test duration may not capture long-term trends.\n",
    "\n",
    "Document all limitations and suggest further analysis if needed before full rollout."
   ]
  }
 ],
 "metadata": {
  "language_info": {
   "name": "python"
  }
 },
 "nbformat": 4,
 "nbformat_minor": 5
}
